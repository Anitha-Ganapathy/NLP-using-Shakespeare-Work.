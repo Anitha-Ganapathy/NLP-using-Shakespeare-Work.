{
 "cells": [
  {
   "cell_type": "markdown",
   "id": "fleet-stockholm",
   "metadata": {},
   "source": [
    "# Number of Unique words in the complete works of William Shakespeare.\n",
    "\n",
    "This notebook is a solution to a task of finding the number of unique words in the complete collection of the Shakespeare work.\n",
    "\n",
    "Download link for the text corpus of William Shakespeare work.\n",
    "\n",
    "http://www.gutenberg.org/ebooks/100"
   ]
  },
  {
   "cell_type": "code",
   "execution_count": 41,
   "id": "awful-alliance",
   "metadata": {},
   "outputs": [],
   "source": [
    "%config Completer.use_jedi=False"
   ]
  },
  {
   "cell_type": "markdown",
   "id": "smoking-passenger",
   "metadata": {},
   "source": [
    "Imports"
   ]
  },
  {
   "cell_type": "code",
   "execution_count": 42,
   "id": "appointed-victim",
   "metadata": {},
   "outputs": [],
   "source": [
    "import nltk\n",
    "from nltk.corpus import stopwords \n",
    "from nltk.tokenize import word_tokenize\n",
    "import re"
   ]
  },
  {
   "cell_type": "markdown",
   "id": "choice-shopper",
   "metadata": {},
   "source": [
    "Necessary downloads."
   ]
  },
  {
   "cell_type": "code",
   "execution_count": 43,
   "id": "future-database",
   "metadata": {},
   "outputs": [
    {
     "name": "stderr",
     "output_type": "stream",
     "text": [
      "[nltk_data] Downloading package shakespeare to /root/nltk_data...\n",
      "[nltk_data]   Package shakespeare is already up-to-date!\n",
      "[nltk_data] Downloading package punkt to /root/nltk_data...\n",
      "[nltk_data]   Package punkt is already up-to-date!\n",
      "[nltk_data] Downloading package stopwords to /root/nltk_data...\n",
      "[nltk_data]   Package stopwords is already up-to-date!\n"
     ]
    },
    {
     "data": {
      "text/plain": [
       "True"
      ]
     },
     "execution_count": 43,
     "metadata": {},
     "output_type": "execute_result"
    }
   ],
   "source": [
    "nltk.download('shakespeare')\n",
    "nltk.download('punkt')\n",
    "nltk.download('stopwords')"
   ]
  },
  {
   "cell_type": "markdown",
   "id": "hundred-salem",
   "metadata": {},
   "source": [
    "The shakespeare corpus from the nltk library did not have the complete work so I downloaded the txt file."
   ]
  },
  {
   "cell_type": "code",
   "execution_count": 44,
   "id": "reverse-islam",
   "metadata": {},
   "outputs": [
    {
     "data": {
      "text/plain": [
       "['a_and_c.xml',\n",
       " 'dream.xml',\n",
       " 'hamlet.xml',\n",
       " 'j_caesar.xml',\n",
       " 'macbeth.xml',\n",
       " 'merchant.xml',\n",
       " 'othello.xml',\n",
       " 'r_and_j.xml']"
      ]
     },
     "execution_count": 44,
     "metadata": {},
     "output_type": "execute_result"
    }
   ],
   "source": [
    "from nltk.corpus import shakespeare #XMLCorpusreader\n",
    "shakespeare.fileids()"
   ]
  },
  {
   "cell_type": "code",
   "execution_count": 45,
   "id": "aggressive-greene",
   "metadata": {},
   "outputs": [
    {
     "name": "stdout",
     "output_type": "stream",
     "text": [
      "Length of raw corpus collection of Shakespeare work before pre-processing: 5545468\n"
     ]
    }
   ],
   "source": [
    "shakespeare_object = open(\"Shakespeare.txt\",\"r\")\n",
    "data = (shakespeare_object.read())\n",
    "print(\"Length of raw corpus collection of Shakespeare work before pre-processing:\",len(data))"
   ]
  },
  {
   "cell_type": "code",
   "execution_count": 46,
   "id": "peripheral-spray",
   "metadata": {},
   "outputs": [
    {
     "name": "stdout",
     "output_type": "stream",
     "text": [
      "Length of raw corpus collection of Shakespeare work after pre-processing: 5036017\n"
     ]
    }
   ],
   "source": [
    "def preprocess_text(text):\n",
    "    # Remove punctuations and numbers\n",
    "    text = re.sub('[^a-zA-Z]', ' ', text)\n",
    "    # Single character removal\n",
    "    sentence = re.sub(r\"\\s+[a-zA-Z]\\s+\", ' ', text)\n",
    "    # Removing multiple spaces\n",
    "    text = re.sub(r'\\s+', ' ', text)\n",
    "    return text.lower()\n",
    "\n",
    "pre_processed_data = preprocess_text(data)\n",
    "print(\"Length of raw corpus collection of Shakespeare work after pre-processing:\",len(pre_processed_data))"
   ]
  },
  {
   "cell_type": "code",
   "execution_count": 47,
   "id": "exceptional-difficulty",
   "metadata": {},
   "outputs": [
    {
     "data": {
      "text/plain": [
       "'the complete works of william shakespeare by william shakespeare contents the sonnets all s well that ends well the tragedy of antony and cleopatra as you like it the comedy of errors the tragedy of coriolanus cymbeline the tragedy of hamlet prince of denmark the first part of king henry the fourth the second part of king henry the fourth the life of king henry the fifth the first part of henry the sixth the second part of king henry the sixth the third part of king henry the sixth king henry the eighth king john the tragedy of julius caesar the tragedy of king lear love s labour s lost the tragedy of macbeth measure for measure the merchant of venice the merry wives of windsor a midsummer night s dream much ado about nothing the tragedy of othello moor of venice pericles prince of tyre king richard the second king richard the third the tragedy of romeo and juliet the taming of the shrew the tempest the life of timon of athens the tragedy of titus andronicus the history of troilus and cressida twelfth night or what you will the two gentlemen of verona the two noble kinsmen the winter s tale a lover s complaint the passionate pilgrim the phoenix and the turtle the rape of lucrece venus and adonis the sonnets from fairest creatures we desire increase that thereby beauty s rose might never die but as the riper should by time decease his tender heir might bear his memory but thou contracted to thine own bright eyes feed st thy light s flame with self substantial fuel making a famine where abundance lies thy self thy foe to thy sweet self too cruel thou that art now the world s fresh ornament and only herald to the gaudy spring within thine own bud buriest thy content and tender churl mak st waste in niggarding pity the world or else this glutton be to eat the world s due by the grave and thee when forty winters shall besiege thy brow and dig deep trenches in thy beauty s field thy youth s proud livery so gazed on now will be a tattered weed of small worth held then bein'"
      ]
     },
     "execution_count": 47,
     "metadata": {},
     "output_type": "execute_result"
    }
   ],
   "source": [
    "pre_processed_data[:2000]"
   ]
  },
  {
   "cell_type": "code",
   "execution_count": 48,
   "id": "comparative-broadcast",
   "metadata": {},
   "outputs": [
    {
     "name": "stdout",
     "output_type": "stream",
     "text": [
      "Length of the corpus after using word_tokenize: 991293\n"
     ]
    }
   ],
   "source": [
    "shakespeare_words = word_tokenize(pre_processed_data)\n",
    "print(\"Length of the corpus after using word_tokenize:\",len(shakespeare_words))"
   ]
  },
  {
   "cell_type": "code",
   "execution_count": 49,
   "id": "exact-saint",
   "metadata": {},
   "outputs": [
    {
     "name": "stdout",
     "output_type": "stream",
     "text": [
      "Length of the corpus after removing stop-words: 513843\n"
     ]
    }
   ],
   "source": [
    "stop_words = set(stopwords.words('english'))\n",
    "filtered_shakespeare_words = [word for word in shakespeare_words if not word in stop_words]\n",
    "print(\"Length of the corpus after removing stop-words:\",len(filtered_shakespeare_words))"
   ]
  },
  {
   "cell_type": "code",
   "execution_count": 50,
   "id": "conservative-aluminum",
   "metadata": {},
   "outputs": [
    {
     "name": "stdout",
     "output_type": "stream",
     "text": [
      "List of unique words in the corpus: 25635\n"
     ]
    }
   ],
   "source": [
    "unique_words = set(filtered_shakespeare_words)\n",
    "unique_words_size = len(unique_words)\n",
    "print(\"List of unique words in the corpus:\",unique_words_size)"
   ]
  },
  {
   "cell_type": "markdown",
   "id": "closed-delta",
   "metadata": {},
   "source": [
    "Summary of the William Shakespeare work."
   ]
  },
  {
   "cell_type": "code",
   "execution_count": 55,
   "id": "recovered-account",
   "metadata": {},
   "outputs": [
    {
     "name": "stdout",
     "output_type": "stream",
     "text": [
      "Length of raw corpus collection of Shakespeare work before pre-processing: 5545468\n",
      "Length of raw corpus collection of Shakespeare work after pre-processing: 5036017\n",
      "Length of the corpus after using word_tokenize: 991293\n",
      "Length of the corpus after removing stop-words: 513843\n",
      "List of unique words in the corpus: 25635\n"
     ]
    }
   ],
   "source": [
    "print(\"Length of raw corpus collection of Shakespeare work before pre-processing:\",len(data))\n",
    "print(\"Length of raw corpus collection of Shakespeare work after pre-processing:\",len(pre_processed_data))\n",
    "print(\"Length of the corpus after using word_tokenize:\",len(shakespeare_words))\n",
    "print(\"Length of the corpus after removing stop-words:\",len(filtered_shakespeare_words))\n",
    "print(\"List of unique words in the corpus:\",unique_words_size)"
   ]
  },
  {
   "cell_type": "code",
   "execution_count": 52,
   "id": "unsigned-activity",
   "metadata": {},
   "outputs": [],
   "source": [
    "import pandas as pd\n",
    "\n",
    "df= pd.DataFrame(unique_words)"
   ]
  },
  {
   "cell_type": "code",
   "execution_count": 53,
   "id": "european-homeless",
   "metadata": {},
   "outputs": [
    {
     "data": {
      "text/plain": [
       "(25635, 1)"
      ]
     },
     "execution_count": 53,
     "metadata": {},
     "output_type": "execute_result"
    }
   ],
   "source": [
    "df.shape"
   ]
  },
  {
   "cell_type": "code",
   "execution_count": 54,
   "id": "collective-principal",
   "metadata": {},
   "outputs": [
    {
     "data": {
      "text/html": [
       "<div>\n",
       "<style scoped>\n",
       "    .dataframe tbody tr th:only-of-type {\n",
       "        vertical-align: middle;\n",
       "    }\n",
       "\n",
       "    .dataframe tbody tr th {\n",
       "        vertical-align: top;\n",
       "    }\n",
       "\n",
       "    .dataframe thead th {\n",
       "        text-align: right;\n",
       "    }\n",
       "</style>\n",
       "<table border=\"1\" class=\"dataframe\">\n",
       "  <thead>\n",
       "    <tr style=\"text-align: right;\">\n",
       "      <th></th>\n",
       "      <th>0</th>\n",
       "      <th>1</th>\n",
       "      <th>2</th>\n",
       "      <th>3</th>\n",
       "      <th>4</th>\n",
       "      <th>5</th>\n",
       "      <th>6</th>\n",
       "      <th>7</th>\n",
       "      <th>8</th>\n",
       "      <th>9</th>\n",
       "      <th>10</th>\n",
       "      <th>11</th>\n",
       "      <th>12</th>\n",
       "      <th>13</th>\n",
       "      <th>14</th>\n",
       "    </tr>\n",
       "  </thead>\n",
       "  <tbody>\n",
       "    <tr>\n",
       "      <th>0</th>\n",
       "      <td>runagate</td>\n",
       "      <td>cast</td>\n",
       "      <td>gulfs</td>\n",
       "      <td>feigned</td>\n",
       "      <td>noontide</td>\n",
       "      <td>unskilful</td>\n",
       "      <td>birding</td>\n",
       "      <td>slobbery</td>\n",
       "      <td>siege</td>\n",
       "      <td>ancientry</td>\n",
       "      <td>instantly</td>\n",
       "      <td>snail</td>\n",
       "      <td>wrangle</td>\n",
       "      <td>vnclaspe</td>\n",
       "      <td>challenges</td>\n",
       "    </tr>\n",
       "  </tbody>\n",
       "</table>\n",
       "</div>"
      ],
      "text/plain": [
       "         0     1      2        3         4          5        6         7   \\\n",
       "0  runagate  cast  gulfs  feigned  noontide  unskilful  birding  slobbery   \n",
       "\n",
       "      8          9          10     11       12        13          14  \n",
       "0  siege  ancientry  instantly  snail  wrangle  vnclaspe  challenges  "
      ]
     },
     "execution_count": 54,
     "metadata": {},
     "output_type": "execute_result"
    }
   ],
   "source": [
    "df[:15].T"
   ]
  }
 ],
 "metadata": {
  "kernelspec": {
   "display_name": "Python 3",
   "language": "python",
   "name": "python3"
  },
  "language_info": {
   "codemirror_mode": {
    "name": "ipython",
    "version": 3
   },
   "file_extension": ".py",
   "mimetype": "text/x-python",
   "name": "python",
   "nbconvert_exporter": "python",
   "pygments_lexer": "ipython3",
   "version": "3.7.7"
  },
  "toc-autonumbering": true
 },
 "nbformat": 4,
 "nbformat_minor": 5
}
